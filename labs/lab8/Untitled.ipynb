{
 "cells": [
  {
   "cell_type": "code",
   "execution_count": 5,
   "id": "03efba14-e950-420b-99d2-9b923b5f3d65",
   "metadata": {},
   "outputs": [],
   "source": [
    "def encrypt(t1, t2):\n",
    "    t1 = [ord(i) for i in t1]\n",
    "    t2 = [ord(i) for i in t2]\n",
    "    return ''.join(chr(a^b) for a, b in zip (t1,t2))"
   ]
  },
  {
   "cell_type": "code",
   "execution_count": 7,
   "id": "3c075467-fa5d-41bf-8612-d43a804e201c",
   "metadata": {},
   "outputs": [
    {
     "name": "stdout",
     "output_type": "stream",
     "text": [
      "Зашифрованный текст С1: ЭЅвЀЋИѰѲОЃЉѩЈѼОѶt\u0012\u0003\u0003\n",
      "Зашифрованный текст С2: ТДЕЂѶѠЌѼЙѳѾЛЈѵЛХѵНЉЇ\n",
      "Расшифрованный текст P1: ВСеверныйфилиалБанка\n",
      "Расшифрованный текст P2: НаВашисходящийот1204\n"
     ]
    }
   ],
   "source": [
    "P1 = 'НаВашисходящийот1204'\n",
    "P2 = 'ВСеверныйфилиалБанка'\n",
    "\n",
    "K = '05 0C 17 7F 0E 4E 37 D2 94 10 09 2E 22 57 FF C8 OB B2 70 54'\n",
    "\n",
    "C1 = encrypt(P1, K)\n",
    "C2 = encrypt(P2, K)\n",
    "\n",
    "print('Зашифрованный текст С1:', C1)\n",
    "print('Зашифрованный текст С2:', C2)\n",
    "\n",
    "decr = encrypt(C1, C2)\n",
    "\n",
    "print('Расшифрованный текст P1:', encrypt(decr, P1))\n",
    "print('Расшифрованный текст P2:', encrypt(decr, P2))"
   ]
  },
  {
   "cell_type": "code",
   "execution_count": null,
   "id": "bcbd0942-f2eb-4556-b8d1-fb095d6d4455",
   "metadata": {},
   "outputs": [],
   "source": []
  }
 ],
 "metadata": {
  "kernelspec": {
   "display_name": "Python 3 (ipykernel)",
   "language": "python",
   "name": "python3"
  },
  "language_info": {
   "codemirror_mode": {
    "name": "ipython",
    "version": 3
   },
   "file_extension": ".py",
   "mimetype": "text/x-python",
   "name": "python",
   "nbconvert_exporter": "python",
   "pygments_lexer": "ipython3",
   "version": "3.10.1"
  }
 },
 "nbformat": 4,
 "nbformat_minor": 5
}
