{
 "cells": [
  {
   "cell_type": "code",
   "execution_count": 1,
   "id": "e24bc1c4-76e7-4264-9bc3-691271629eba",
   "metadata": {},
   "outputs": [],
   "source": [
    "import string\n",
    "import random"
   ]
  },
  {
   "cell_type": "code",
   "execution_count": 2,
   "id": "7508cd9e-bbf0-4c90-9f4d-5c67a8bdf449",
   "metadata": {},
   "outputs": [],
   "source": [
    "def toHex(text):\n",
    "    return \" \".join(hex(ord(i))[2:] for i in text)"
   ]
  },
  {
   "cell_type": "code",
   "execution_count": 13,
   "id": "62c501ec-a69b-439f-8c12-830aaef3ea0b",
   "metadata": {},
   "outputs": [],
   "source": [
    "def gen_key(size):\n",
    "    key = \"\".join(random.choice(string.ascii_letters + string.digits) for _ in range(size))\n",
    "    return key"
   ]
  },
  {
   "cell_type": "code",
   "execution_count": 14,
   "id": "285edb12-8613-4e51-b241-100eecccd8ef",
   "metadata": {},
   "outputs": [],
   "source": [
    "def encoder(text, key):\n",
    "    return \"\".join(chr(a^b) for a, b in zip (text, key))"
   ]
  },
  {
   "cell_type": "code",
   "execution_count": 17,
   "id": "a9f99932-5448-4f89-8619-c5cf66b5e166",
   "metadata": {},
   "outputs": [
    {
     "name": "stdout",
     "output_type": "stream",
     "text": [
      "Ключ:  69 64 36 61 6b 7a 30 74 48 61 4a 65 58 39 5a 4a 43 46 32 53 61 62\n",
      "Зашифрованное сообщение:  448 44 40b 45f 459 431 40c 54 47b 45f 47e 45b 464 15 7a 47e 403 405 405 41f 42e 43\n",
      "Расшифрованоое сообщение:  С новым годом, друзья!\n"
     ]
    }
   ],
   "source": [
    "msg = \"С новым годом, друзья!\"\n",
    "key = gen_key(len(msg))\n",
    "hex_key = toHex(key)\n",
    "print(\"Ключ: \", hex_key)\n",
    "enc_text = encoder([ord(i) for i in msg], [ord(i) for i in key])\n",
    "hex_text = toHex(enc_text)\n",
    "print(\"Зашифрованное сообщение: \", hex_text)\n",
    "decr_text = encoder([ord(i) for i in enc_text], [ord(i) for i in key])\n",
    "print(\"Расшифрованоое сообщение: \", decr_text)"
   ]
  },
  {
   "cell_type": "code",
   "execution_count": 18,
   "id": "2cd6dd2a-59f8-4662-8c40-42b4a24c5e4b",
   "metadata": {},
   "outputs": [
    {
     "name": "stdout",
     "output_type": "stream",
     "text": [
      "Ключ:  69 64 36 61 6b 7a 30 74 48 61 4a 65 58 39 5a 44 3d 3e 3e 2a 1d 473\n"
     ]
    }
   ],
   "source": [
    "new_msg = \"С новым годом, коллега\"\n",
    "\n",
    "key = encoder([ord(i) for i in enc_text], [ord(i) for i in new_msg])\n",
    "print(\"Ключ: \", toHex(key))"
   ]
  },
  {
   "cell_type": "code",
   "execution_count": null,
   "id": "0d024baa-1423-4ac7-b511-4fdec3683926",
   "metadata": {},
   "outputs": [],
   "source": []
  }
 ],
 "metadata": {
  "kernelspec": {
   "display_name": "Python 3 (ipykernel)",
   "language": "python",
   "name": "python3"
  },
  "language_info": {
   "codemirror_mode": {
    "name": "ipython",
    "version": 3
   },
   "file_extension": ".py",
   "mimetype": "text/x-python",
   "name": "python",
   "nbconvert_exporter": "python",
   "pygments_lexer": "ipython3",
   "version": "3.10.1"
  }
 },
 "nbformat": 4,
 "nbformat_minor": 5
}
